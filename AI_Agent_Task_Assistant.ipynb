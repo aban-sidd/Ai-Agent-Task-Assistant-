{
  "nbformat": 4,
  "nbformat_minor": 0,
  "metadata": {
    "colab": {
      "provenance": []
    },
    "kernelspec": {
      "name": "python3",
      "display_name": "Python 3"
    },
    "language_info": {
      "name": "python"
    }
  },
  "cells": [
    {
      "cell_type": "markdown",
      "source": [
        "# Installing Dependencies"
      ],
      "metadata": {
        "id": "ySJgkD7_EmnP"
      }
    },
    {
      "cell_type": "code",
      "execution_count": 12,
      "metadata": {
        "id": "2YuyJUqhDu8Z"
      },
      "outputs": [],
      "source": [
        "!pip install langchain --quiet\n",
        "!pip install langchain-community --quiet\n",
        "!pip install openai --quiet\n",
        "!pip install tavily-python --quiet\n",
        "!pip install tavily-python --quiet"
      ]
    },
    {
      "cell_type": "markdown",
      "source": [
        "# Importing Dependencies"
      ],
      "metadata": {
        "id": "JqL8UXxiErcH"
      }
    },
    {
      "cell_type": "code",
      "source": [
        "from langchain.tools import tool\n",
        "from tavily import TavilyClient\n",
        "from transformers import pipeline\n",
        "\n",
        "import os\n",
        "from google.colab import userdata\n",
        "\n",
        "from pydantic import BaseModel\n",
        "from langchain.agents import initialize_agent , AgentType , Tool , create_openai_functions_agent\n",
        "from langchain.prompts import ChatPromptTemplate, MessagesPlaceholder\n",
        "from langchain.chat_models import ChatOpenAI\n",
        "from langchain.memory import ConversationBufferMemory"
      ],
      "metadata": {
        "id": "Ap_Q6w-oErQa"
      },
      "execution_count": 2,
      "outputs": []
    },
    {
      "cell_type": "markdown",
      "source": [
        "# Setup Api Keys"
      ],
      "metadata": {
        "id": "kztlrg_wGnIR"
      }
    },
    {
      "cell_type": "code",
      "source": [
        "os.environ['OPENAI_API_KEY'] = userdata.get(\"OPENAI\")\n",
        "os.environ['TAVILY_API_KEY'] = userdata.get(\"TAVILY\")"
      ],
      "metadata": {
        "id": "NSZwONcgGm48"
      },
      "execution_count": 3,
      "outputs": []
    },
    {
      "cell_type": "markdown",
      "source": [
        "# Creating Custom Tools"
      ],
      "metadata": {
        "id": "1NGHiuz-EdDw"
      }
    },
    {
      "cell_type": "markdown",
      "source": [
        "## Web-search Tool"
      ],
      "metadata": {
        "id": "y1GzcR4WEmC6"
      }
    },
    {
      "cell_type": "code",
      "source": [
        "client = TavilyClient()\n",
        "\n",
        "@tool\n",
        "def web_search(query: str) -> str:\n",
        "  \"\"\"Searches the web for the given query using Tavily API.\"\"\"\n",
        "  results = client.search(query)\n",
        "  return results['results'][0]['content']"
      ],
      "metadata": {
        "id": "j9CdLPsaNL6A"
      },
      "execution_count": 4,
      "outputs": []
    },
    {
      "cell_type": "markdown",
      "source": [
        "## Summarize tool"
      ],
      "metadata": {
        "id": "SOEE9bFSNlTq"
      }
    },
    {
      "cell_type": "code",
      "source": [
        "@tool\n",
        "def summarize(text: str) -> str:\n",
        "  \"\"\"Summarizes the given text.\"\"\"\n",
        "  return 'summarize this: ' +  text"
      ],
      "metadata": {
        "id": "u7IO-XrAN1GH"
      },
      "execution_count": 5,
      "outputs": []
    },
    {
      "cell_type": "markdown",
      "source": [
        "## Translation Tool"
      ],
      "metadata": {
        "id": "18QFiQLYOREz"
      }
    },
    {
      "cell_type": "code",
      "source": [
        "LANG_CODES = {\n",
        "    \"acehnese arabic\": \"ace_Arab\", \"acehnese latin\": \"ace_Latn\",\n",
        "    \"mesopotamian arabic\": \"acm_Arab\", \"taizzi‑adeni arabic\": \"acq_Arab\",\n",
        "    \"tunisian arabic\": \"aeb_Arab\", \"afrikaans\": \"afr_Latn\",\n",
        "    \"south levantine arabic\": \"ajp_Arab\", \"akan\": \"aka_Latn\",\n",
        "    \"amharic\": \"amh_Ethi\", \"north levantine arabic\": \"apc_Arab\",\n",
        "    \"modern standard arabic\": \"arb_Arab\", \"arabic latin\": \"arb_Latn\",\n",
        "    \"najdi arabic\": \"ars_Arab\", \"moroccan arabic\": \"ary_Arab\",\n",
        "    \"egyptian arabic\": \"arz_Arab\", \"assamese\": \"asm_Beng\",\n",
        "    \"asturian\": \"ast_Latn\", \"awadhi\": \"awa_Deva\",\n",
        "    \"aymara\": \"ayr_Latn\", \"south azerbaijani\": \"azb_Arab\",\n",
        "    \"north azerbaijani\": \"azj_Latn\", \"bashkir\": \"bak_Cyrl\",\n",
        "    \"bambara\": \"bam_Latn\", \"balinese\": \"ban_Latn\",\n",
        "    \"belarusian\": \"bel_Cyrl\", \"bemba\": \"bem_Latn\",\n",
        "    \"bengali\": \"ben_Beng\", \"bhojpuri\": \"bho_Deva\",\n",
        "    \"banjar arabic\": \"bjn_Arab\", \"banjar latin\": \"bjn_Latn\",\n",
        "    \"tibetan\": \"bod_Tibt\", \"bosnian\": \"bos_Latn\",\n",
        "    \"buginese\": \"bug_Latn\", \"bulgarian\": \"bul_Cyrl\",\n",
        "    \"catalan\": \"cat_Latn\", \"cebuano\": \"ceb_Latn\",\n",
        "    \"czech\": \"ces_Latn\", \"chokwe\": \"cjk_Latn\",\n",
        "    \"central kurdish\": \"ckb_Arab\", \"crimean tatar\": \"crh_Latn\",\n",
        "    \"welsh\": \"cym_Latn\", \"danish\": \"dan_Latn\",\n",
        "    \"german\": \"deu_Latn\", \"southwestern dinka\": \"dik_Latn\",\n",
        "    \"dyula\": \"dyu_Latn\", \"dzongkha\": \"dzo_Tibt\",\n",
        "    \"greek\": \"ell_Grek\", \"english\": \"eng_Latn\",\n",
        "    \"esperanto\": \"epo_Latn\", \"estonian\": \"est_Latn\",\n",
        "    \"basque\": \"eus_Latn\", \"ewe\": \"ewe_Latn\",\n",
        "    \"faroese\": \"fao_Latn\", \"fijian\": \"fij_Latn\",\n",
        "    \"finnish\": \"fin_Latn\", \"fon\": \"fon_Latn\",\n",
        "    \"french\": \"fra_Latn\", \"friulian\": \"fur_Latn\",\n",
        "    \"fulfulde\": \"fuv_Latn\", \"scottish gaelic\": \"gla_Latn\",\n",
        "    \"irish\": \"gle_Latn\", \"galician\": \"glg_Latn\",\n",
        "    \"guarani\": \"grn_Latn\", \"gujarati\": \"guj_Gujr\",\n",
        "    \"haitian creole\": \"hat_Latn\", \"hausa\": \"hau_Latn\",\n",
        "    \"hebrew\": \"heb_Hebr\", \"hindi\": \"hin_Deva\",\n",
        "    \"chhattisgarhi\": \"hne_Deva\", \"croatian\": \"hrv_Latn\",\n",
        "    \"hungarian\": \"hun_Latn\", \"armenian\": \"hye_Armn\",\n",
        "    \"igbo\": \"ibo_Latn\", \"ilocano\": \"ilo_Latn\",\n",
        "    \"indonesian\": \"ind_Latn\", \"icelandic\": \"isl_Latn\",\n",
        "    \"italian\": \"ita_Latn\", \"javanese\": \"jav_Latn\",\n",
        "    \"japanese\": \"jpn_Jpan\", \"kabyle\": \"kab_Latn\",\n",
        "    \"jingpho\": \"kac_Latn\", \"kamba\": \"kam_Latn\",\n",
        "    \"kannada\": \"kan_Knda\", \"kashmiri arabic\": \"kas_Arab\",\n",
        "    \"kashmiri devanagari\": \"kas_Deva\", \"georgian\": \"kat_Geor\",\n",
        "    \"kanuri arabic\": \"knc_Arab\", \"kanuri latin\": \"knc_Latn\",\n",
        "    \"kazakh\": \"kaz_Cyrl\", \"kabiyè\": \"kbp_Latn\",\n",
        "    \"kabuverdianu\": \"kea_Latn\", \"khmer\": \"khm_Khmr\",\n",
        "    \"kikuyu\": \"kik_Latn\", \"kinyarwanda\": \"kin_Latn\",\n",
        "    \"kyrgyz\": \"kir_Cyrl\", \"kimbundu\": \"kmb_Latn\",\n",
        "    \"northern kurdish\": \"kmr_Latn\", \"kikongo\": \"kon_Latn\",\n",
        "    \"korean\": \"kor_Hang\", \"lao\": \"lao_Laoo\",\n",
        "    \"ligurian\": \"lij_Latn\", \"limburgish\": \"lim_Latn\",\n",
        "    \"lingala\": \"lin_Latn\", \"lithuanian\": \"lit_Latn\",\n",
        "    \"lombard\": \"lmo_Latn\", \"latgalian\": \"ltg_Latn\",\n",
        "    \"luxembourgish\": \"ltz_Latn\", \"luba‑kasai\": \"lua_Latn\",\n",
        "    \"ganda\": \"lug_Latn\", \"luo\": \"luo_Latn\",\n",
        "    \"mizo\": \"lus_Latn\", \"latvian\": \"lvs_Latn\",\n",
        "    \"magahi\": \"mag_Deva\", \"maithili\": \"mai_Deva\",\n",
        "    \"malayalam\": \"mal_Mlym\", \"marathi\": \"mar_Deva\",\n",
        "    \"minangkabau arabic\": \"min_Arab\", \"minangkabau latin\": \"min_Latn\",\n",
        "    \"macedonian\": \"mkd_Cyrl\", \"plateau malagasy\": \"plt_Latn\",\n",
        "    \"maltese\": \"mlt_Latn\", \"meitei bengali\": \"mni_Beng\",\n",
        "    \"mongolian\": \"khk_Cyrl\", \"mossi\": \"mos_Latn\",\n",
        "    \"maori\": \"mri_Latn\", \"burmese\": \"mya_Mymr\",\n",
        "    \"dutch\": \"nld_Latn\", \"norwegian nynorsk\": \"nno_Latn\",\n",
        "    \"norwegian bokmål\": \"nob_Latn\", \"nepali\": \"npi_Deva\",\n",
        "    \"northern sotho\": \"nso_Latn\", \"nuer\": \"nus_Latn\",\n",
        "    \"nyanja\": \"nya_Latn\", \"occitan\": \"oci_Latn\",\n",
        "    \"oromo\": \"gaz_Latn\", \"odia\": \"ory_Orya\",\n",
        "    \"panjabi\": \"pan_Guru\", \"papiamento\": \"pap_Latn\",\n",
        "    \"persian\": \"pes_Arab\", \"polish\": \"pol_Latn\",\n",
        "    \"portuguese\": \"por_Latn\", \"dari\": \"prs_Arab\",\n",
        "    \"pashto\": \"pbt_Arab\", \"quechua\": \"quy_Latn\",\n",
        "    \"romanian\": \"ron_Latn\", \"rundi\": \"run_Latn\",\n",
        "    \"russian\": \"rus_Cyrl\", \"sango\": \"sag_Latn\",\n",
        "    \"sanskrit\": \"san_Deva\", \"santali\": \"sat_Olck\",\n",
        "    \"sicilian\": \"scn_Latn\", \"shan\": \"shn_Mymr\",\n",
        "    \"sinhala\": \"sin_Sinh\", \"slovak\": \"slk_Latn\",\n",
        "    \"slovenian\": \"slv_Latn\", \"samoan\": \"smo_Latn\",\n",
        "    \"shona\": \"sna_Latn\", \"sindhi arabic\": \"snd_Arab\",\n",
        "    \"somali\": \"som_Latn\", \"southern sotho\": \"sot_Latn\",\n",
        "    \"spanish\": \"spa_Latn\", \"albanian tosk\": \"als_Latn\",\n",
        "    \"sardinian\": \"srd_Latn\", \"serbian cyrillic\": \"srp_Cyrl\",\n",
        "    \"swati\": \"ssw_Latn\", \"sundanese\": \"sun_Latn\",\n",
        "    \"swedish\": \"swe_Latn\", \"swahili\": \"swh_Latn\",\n",
        "    \"silesian\": \"szl_Latn\", \"tamil\": \"tam_Taml\",\n",
        "    \"tatar\": \"tat_Cyrl\", \"telugu\": \"tel_Telu\",\n",
        "    \"tajik\": \"tgk_Cyrl\", \"tagalog\": \"tgl_Latn\",\n",
        "    \"thai\": \"tha_Thai\", \"tigrinya\": \"tir_Ethi\",\n",
        "    \"tamasheq latin\": \"taq_Latn\", \"tamasheq tifinagh\": \"taq_Tfng\",\n",
        "    \"tok pisin\": \"tpi_Latn\", \"tswana\": \"tsn_Latn\",\n",
        "    \"tsonga\": \"tso_Latn\", \"turkmen\": \"tuk_Latn\",\n",
        "    \"tumbuka\": \"tum_Latn\", \"turkish\": \"tur_Latn\",\n",
        "    \"twi\": \"twi_Latn\", \"central atlas tamazight\": \"tzm_Tfng\",\n",
        "    \"uyghur\": \"uig_Arab\", \"ukrainian\": \"ukr_Cyrl\",\n",
        "    \"umbundu\": \"umb_Latn\", \"urdu\": \"urd_Arab\",\n",
        "    \"uzbek\": \"uzn_Latn\", \"venetian\": \"vec_Latn\",\n",
        "    \"vietnamese\": \"vie_Latn\", \"waray\": \"war_Latn\",\n",
        "    \"wolof\": \"wol_Latn\", \"xhosa\": \"xho_Latn\",\n",
        "    \"yiddish\": \"ydd_Hebr\", \"yoruba\": \"yor_Latn\",\n",
        "    \"yue chinese\": \"yue_Hant\", \"zhongwen\": \"zho_Hans\",\n",
        "    \"zho hant\": \"zho_Hant\", \"zulu\": \"zul_Latn\",\n",
        "}\n"
      ],
      "metadata": {
        "id": "rS4iTaOFPNWo"
      },
      "execution_count": 6,
      "outputs": []
    },
    {
      "cell_type": "code",
      "source": [
        "translator = pipeline(\n",
        "        \"translation\",\n",
        "        model=\"facebook/nllb-200-distilled-600M\",\n",
        "        src_lang=\"eng_Latn\",\n",
        "        tgt_lang=\"spa_Latn\"\n",
        "    )"
      ],
      "metadata": {
        "colab": {
          "base_uri": "https://localhost:8080/"
        },
        "id": "N7YbHcAFXIPP",
        "outputId": "80c664fe-2ecc-48df-ae47-fd34009e148e"
      },
      "execution_count": 7,
      "outputs": [
        {
          "output_type": "stream",
          "name": "stderr",
          "text": [
            "/usr/local/lib/python3.11/dist-packages/huggingface_hub/utils/_auth.py:94: UserWarning: \n",
            "The secret `HF_TOKEN` does not exist in your Colab secrets.\n",
            "To authenticate with the Hugging Face Hub, create a token in your settings tab (https://huggingface.co/settings/tokens), set it as secret in your Google Colab and restart your session.\n",
            "You will be able to reuse this secret in all of your notebooks.\n",
            "Please note that authentication is recommended but still optional to access public models or datasets.\n",
            "  warnings.warn(\n",
            "Device set to use cpu\n"
          ]
        }
      ]
    },
    {
      "cell_type": "code",
      "source": [
        "class TranslateInput(BaseModel):\n",
        "    text: str\n",
        "    language: str\n",
        "\n",
        "@tool(args_schema=TranslateInput)\n",
        "def translate_to(text: str, language: str = \"spanish\") -> str:\n",
        "    \"\"\"Translate the given English `text` into the target `language` (like 'urdu', 'french', or 'portuguese').\n",
        "    If the user has previously asked something to translate, you can use that as context.\"\"\"\n",
        "\n",
        "    if not text.strip():\n",
        "        return \"⚠️ No text provided to translate. Please include the sentence or phrase you want translated.\"\n",
        "\n",
        "    lang_lower = language.strip().lower()\n",
        "    if lang_lower not in LANG_CODES:\n",
        "        return f\"Unsupported language: '{lang_lower}'\"\n",
        "\n",
        "    tgt = LANG_CODES[lang_lower]\n",
        "    translator.tokenizer.src_lang = \"eng_Latn\"\n",
        "    translator.tokenizer.tgt_lang = tgt\n",
        "    result = translator(text)\n",
        "\n",
        "    return result[0][\"translation_text\"]\n"
      ],
      "metadata": {
        "id": "zYNMQzhnQriu"
      },
      "execution_count": 32,
      "outputs": []
    },
    {
      "cell_type": "markdown",
      "source": [
        "# Create An Agent"
      ],
      "metadata": {
        "id": "loemgpYOSTVd"
      }
    },
    {
      "cell_type": "code",
      "source": [
        "llm = ChatOpenAI(temperature=0 , model='gpt-3.5-turbo')\n",
        "\n",
        "tools = [\n",
        "    web_search,\n",
        "    summarize,\n",
        "    translate_to\n",
        "]\n",
        "\n",
        "memory = ConversationBufferMemory(memory_key=\"chat_history\" , return_messages=True)\n",
        "\n",
        "# Define the prompt template that uses memory\n",
        "prompt = ChatPromptTemplate.from_messages([\n",
        "    (\"system\", \"You are a helpful assistant that can translate, summarize, and web search using tools. \\\n",
        "    If the user asks to 'translate to Urdu' or 'now in French', assume they want to translate their last message.\"),\n",
        "    MessagesPlaceholder(variable_name=\"chat_history\"),\n",
        "    (\"user\", \"{input}\"),\n",
        "    MessagesPlaceholder(variable_name=\"agent_scratchpad\"),\n",
        "])\n",
        "# Create the agent with the prompt\n",
        "agent_chain = create_openai_functions_agent(\n",
        "    llm=llm,\n",
        "    tools=tools,\n",
        "    prompt=prompt\n",
        ")\n",
        "\n",
        "# Plug in the memory here\n",
        "agent_executor = AgentExecutor(\n",
        "    agent=agent_chain,\n",
        "    tools=tools,\n",
        "    memory=memory,\n",
        ")\n"
      ],
      "metadata": {
        "id": "DCTgbVgwSotZ"
      },
      "execution_count": 29,
      "outputs": []
    },
    {
      "cell_type": "code",
      "source": [
        "# 🧪 Run the Assistant in Colab\n",
        "def ask_ai():\n",
        "    print(\"🤖 AI Task Assistant Ready (type 'exit' to quit)\\n\")\n",
        "    while True:\n",
        "        user_input = input(\"🧠 Enter a task:\\n> \")\n",
        "        if user_input.lower() == \"exit\":\n",
        "            print(\"👋 Exiting...\")\n",
        "            break\n",
        "        try:\n",
        "            result = agent_executor.invoke({\"input\": user_input})\n",
        "            print(\"✅ Result:\\n\", result[\"output\"])\n",
        "        except Exception as e:\n",
        "            print(\"❌ Error:\", e)\n",
        "\n",
        "ask_ai()\n"
      ],
      "metadata": {
        "colab": {
          "base_uri": "https://localhost:8080/"
        },
        "id": "nvaINGDDTJf2",
        "outputId": "ab429c5e-4933-4937-8664-c60ecae2f886"
      },
      "execution_count": 30,
      "outputs": [
        {
          "output_type": "stream",
          "name": "stdout",
          "text": [
            "🤖 AI Task Assistant Ready (type 'exit' to quit)\n",
            "\n",
            "🧠 Enter a task:\n",
            "> Translate \"How are you?\" to Spanish\n",
            "✅ Result:\n",
            " The translation of \"How are you?\" to Spanish is \"¿Cómo estás?\"\n",
            "🧠 Enter a task:\n",
            "> now in Urdu\n",
            "✅ Result:\n",
            " The translation of \"¿Cómo estás?\" to Urdu is \"کیسے ہو؟\"\n",
            "🧠 Enter a task:\n",
            "> now in French\n",
            "✅ Result:\n",
            " The translation of \"¿Cómo estás?\" to French is \"¿Cómo estás?\"\n",
            "🧠 Enter a task:\n",
            "> in Portuguese\n",
            "✅ Result:\n",
            " The translation of \"¿Cómo estás?\" to Portuguese is \"¿Cómo estás?\"\n",
            "🧠 Enter a task:\n",
            "> translation of \"¿Cómo estás?\" to Portuguese\n",
            "✅ Result:\n",
            " The translation of \"¿Cómo estás?\" to Portuguese is \"¿Cómo estás?\"\n",
            "🧠 Enter a task:\n",
            "> ok could you tell me what is ml \n",
            "✅ Result:\n",
            " ML can stand for different things depending on the context. It could refer to milliliters (a unit of volume), machine learning (a branch of artificial intelligence), or markup language (a system for annotating a document). Can you provide more context so I can give you a more specific answer?\n",
            "🧠 Enter a task:\n",
            "> why we use it \n",
            "✅ Result:\n",
            " ML (Machine Learning) is used in various fields for tasks such as data analysis, pattern recognition, and prediction. It allows computers to learn from data and make decisions or predictions without being explicitly programmed. ML is used in applications like recommendation systems, image recognition, natural language processing, and more to automate tasks and improve efficiency.\n",
            "🧠 Enter a task:\n",
            "> what is the benefits gives 4 bullet points only \n",
            "✅ Result:\n",
            " - Automation of tasks\n",
            "- Improved decision-making\n",
            "- Personalization of user experiences\n",
            "- Increased efficiency and productivity\n",
            "🧠 Enter a task:\n",
            "> ok so now could you summarize this article for me  Artificial intelligence (AI) is the capability of computational systems to perform tasks typically associated with human intelligence, such as learning, reasoning, problem-solving, perception, and decision-making. It is a field of research in computer science that develops and studies methods and software that enable machines to perceive their environment and use learning and intelligence to take actions that maximize their chances of achieving defined goals.[1]  High-profile applications of AI include advanced web search engines (e.g., Google Search); recommendation systems (used by YouTube, Amazon, and Netflix); virtual assistants (e.g., Google Assistant, Siri, and Alexa); autonomous vehicles (e.g., Waymo); generative and creative tools (e.g., ChatGPT and AI art); and superhuman play and analysis in strategy games (e.g., chess and Go). However, many AI applications are not perceived as AI: \"A lot of cutting edge AI has filtered into general applications, often without being called AI because once something becomes useful enough and common enough it's not labeled AI anymore.\"\n",
            "✅ Result:\n",
            " Artificial intelligence (AI) refers to computational systems performing tasks associated with human intelligence like learning, reasoning, and decision-making. It involves developing methods for machines to perceive their environment and act intelligently to achieve goals. AI applications include web search engines, recommendation systems, virtual assistants, autonomous vehicles, creative tools, and strategy games. Despite its prevalence, some AI applications are not explicitly labeled as AI once they become common and useful in general applications.\n",
            "🧠 Enter a task:\n",
            "> ok now could u tell me what is the date today in pakistan\n",
            "✅ Result:\n",
            " I do not have real-time capabilities to provide the current date in Pakistan. Please check your device or a reliable online source for the most up-to-date information.\n",
            "🧠 Enter a task:\n",
            "> exit\n",
            "👋 Exiting...\n"
          ]
        }
      ]
    },
    {
      "cell_type": "code",
      "source": [],
      "metadata": {
        "id": "4uuQnxIyRG4v"
      },
      "execution_count": null,
      "outputs": []
    }
  ]
}